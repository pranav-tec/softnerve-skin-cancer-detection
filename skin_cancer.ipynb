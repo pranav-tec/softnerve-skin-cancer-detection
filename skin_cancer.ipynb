{
 "cells": [
  {
   "cell_type": "code",
   "execution_count": 1,
   "id": "00f1ce3e",
   "metadata": {},
   "outputs": [],
   "source": [
    "import pandas as pd\n",
    "import numpy as np\n",
    "from sklearn.model_selection import train_test_split\n",
    "from sklearn.preprocessing import LabelEncoder\n",
    "from keras.models import Sequential\n",
    "from keras.layers import Conv2D, MaxPooling2D, Flatten, Dense\n",
    "from keras.utils import to_categorical\n",
    "from PIL import Image\n",
    "import os"
   ]
  },
  {
   "cell_type": "code",
   "execution_count": 2,
   "id": "20f5316b",
   "metadata": {},
   "outputs": [],
   "source": [
    "metadata_file = 'HAM10000_metadata.csv'\n",
    "data = pd.read_csv(metadata_file)"
   ]
  },
  {
   "cell_type": "code",
   "execution_count": 3,
   "id": "77386dc5",
   "metadata": {},
   "outputs": [
    {
     "data": {
      "text/html": [
       "<div>\n",
       "<style scoped>\n",
       "    .dataframe tbody tr th:only-of-type {\n",
       "        vertical-align: middle;\n",
       "    }\n",
       "\n",
       "    .dataframe tbody tr th {\n",
       "        vertical-align: top;\n",
       "    }\n",
       "\n",
       "    .dataframe thead th {\n",
       "        text-align: right;\n",
       "    }\n",
       "</style>\n",
       "<table border=\"1\" class=\"dataframe\">\n",
       "  <thead>\n",
       "    <tr style=\"text-align: right;\">\n",
       "      <th></th>\n",
       "      <th>lesion_id</th>\n",
       "      <th>image_id</th>\n",
       "      <th>dx</th>\n",
       "      <th>dx_type</th>\n",
       "      <th>age</th>\n",
       "      <th>sex</th>\n",
       "      <th>localization</th>\n",
       "    </tr>\n",
       "  </thead>\n",
       "  <tbody>\n",
       "    <tr>\n",
       "      <th>0</th>\n",
       "      <td>HAM_0000118</td>\n",
       "      <td>ISIC_0027419</td>\n",
       "      <td>bkl</td>\n",
       "      <td>histo</td>\n",
       "      <td>80.0</td>\n",
       "      <td>male</td>\n",
       "      <td>scalp</td>\n",
       "    </tr>\n",
       "    <tr>\n",
       "      <th>1</th>\n",
       "      <td>HAM_0000118</td>\n",
       "      <td>ISIC_0025030</td>\n",
       "      <td>bkl</td>\n",
       "      <td>histo</td>\n",
       "      <td>80.0</td>\n",
       "      <td>male</td>\n",
       "      <td>scalp</td>\n",
       "    </tr>\n",
       "    <tr>\n",
       "      <th>2</th>\n",
       "      <td>HAM_0002730</td>\n",
       "      <td>ISIC_0026769</td>\n",
       "      <td>bkl</td>\n",
       "      <td>histo</td>\n",
       "      <td>80.0</td>\n",
       "      <td>male</td>\n",
       "      <td>scalp</td>\n",
       "    </tr>\n",
       "    <tr>\n",
       "      <th>3</th>\n",
       "      <td>HAM_0002730</td>\n",
       "      <td>ISIC_0025661</td>\n",
       "      <td>bkl</td>\n",
       "      <td>histo</td>\n",
       "      <td>80.0</td>\n",
       "      <td>male</td>\n",
       "      <td>scalp</td>\n",
       "    </tr>\n",
       "  </tbody>\n",
       "</table>\n",
       "</div>"
      ],
      "text/plain": [
       "     lesion_id      image_id   dx dx_type   age   sex localization\n",
       "0  HAM_0000118  ISIC_0027419  bkl   histo  80.0  male        scalp\n",
       "1  HAM_0000118  ISIC_0025030  bkl   histo  80.0  male        scalp\n",
       "2  HAM_0002730  ISIC_0026769  bkl   histo  80.0  male        scalp\n",
       "3  HAM_0002730  ISIC_0025661  bkl   histo  80.0  male        scalp"
      ]
     },
     "execution_count": 3,
     "metadata": {},
     "output_type": "execute_result"
    }
   ],
   "source": [
    "data.head(4)"
   ]
  },
  {
   "cell_type": "code",
   "execution_count": 4,
   "id": "dad7e359",
   "metadata": {},
   "outputs": [],
   "source": [
    "image_ids = data['image_id'].values\n",
    "labels = data['dx'].values"
   ]
  },
  {
   "cell_type": "code",
   "execution_count": 5,
   "id": "4a0ba5fe",
   "metadata": {},
   "outputs": [],
   "source": [
    "label_encoder = LabelEncoder()\n",
    "labels = label_encoder.fit_transform(labels)\n"
   ]
  },
  {
   "cell_type": "code",
   "execution_count": 6,
   "id": "f7511e7f",
   "metadata": {},
   "outputs": [],
   "source": [
    "X_train_ids, X_test_ids, y_train, y_test = train_test_split(\n",
    "    image_ids, labels, test_size=0.2, random_state=42)"
   ]
  },
  {
   "cell_type": "code",
   "execution_count": 7,
   "id": "38aeddca",
   "metadata": {},
   "outputs": [],
   "source": [
    "image_size = (28, 28)  \n",
    "num_classes = len(label_encoder.classes_)"
   ]
  },
  {
   "cell_type": "code",
   "execution_count": 8,
   "id": "78000b2c",
   "metadata": {},
   "outputs": [],
   "source": [
    "def load_images(image_ids, image_dir):\n",
    "    images = []\n",
    "    for image_id in image_ids:\n",
    "        # Load and preprocess each image\n",
    "        image_path = os.path.join(image_dir, f\"{image_id}.jpg\")\n",
    "        image = preprocess_image(image_path, image_size)\n",
    "        images.append(image)\n",
    "    return np.array(images)\n",
    "\n",
    "def preprocess_image(image_path, image_size):\n",
    "    # Implement your image preprocessing steps here\n",
    "    # (e.g., resize, normalize, etc.)\n",
    "    image = Image.open(image_path).convert('RGB')\n",
    "    image = image.resize(image_size)\n",
    "    image = np.array(image) / 255.0  # Normalize pixel values between 0 and 1\n",
    "    return image"
   ]
  },
  {
   "cell_type": "code",
   "execution_count": 9,
   "id": "a15a5230",
   "metadata": {},
   "outputs": [],
   "source": [
    "image_dir1 = r'C:\\Users\\nagap\\Downloads\\HAM10000_images_part_1'  \n",
    "X_train = load_images(X_train_ids, image_dir1)\n",
    "X_test = load_images(X_test_ids, image_dir1)\n",
    "\n"
   ]
  },
  {
   "cell_type": "code",
   "execution_count": 10,
   "id": "0fd64b5a",
   "metadata": {},
   "outputs": [],
   "source": [
    "y_train = to_categorical(y_train, num_classes)\n",
    "y_test = to_categorical(y_test, num_classes)"
   ]
  },
  {
   "cell_type": "code",
   "execution_count": 11,
   "id": "81f681ce",
   "metadata": {},
   "outputs": [],
   "source": [
    "model = Sequential()\n",
    "model.add(Conv2D(32, kernel_size=(3, 3), activation='relu', input_shape=(image_size[0], image_size[1], 3)))\n",
    "model.add(MaxPooling2D(pool_size=(2, 2)))\n",
    "model.add(Conv2D(64, kernel_size=(3, 3), activation='relu'))\n",
    "model.add(MaxPooling2D(pool_size=(2, 2)))\n",
    "model.add(Flatten())\n",
    "model.add(Dense(128, activation='relu'))\n",
    "model.add(Dense(num_classes, activation='softmax'))"
   ]
  },
  {
   "cell_type": "code",
   "execution_count": 12,
   "id": "7a35e564",
   "metadata": {},
   "outputs": [
    {
     "name": "stdout",
     "output_type": "stream",
     "text": [
      "Epoch 1/10\n",
      "251/251 [==============================] - 8s 26ms/step - loss: 1.0156 - accuracy: 0.6687 - val_loss: 0.9174 - val_accuracy: 0.6755\n",
      "Epoch 2/10\n",
      "251/251 [==============================] - 6s 25ms/step - loss: 0.8832 - accuracy: 0.6832 - val_loss: 0.8686 - val_accuracy: 0.6805\n",
      "Epoch 3/10\n",
      "251/251 [==============================] - 6s 26ms/step - loss: 0.8472 - accuracy: 0.6928 - val_loss: 0.8326 - val_accuracy: 0.6850\n",
      "Epoch 4/10\n",
      "251/251 [==============================] - 6s 25ms/step - loss: 0.8125 - accuracy: 0.7057 - val_loss: 0.8057 - val_accuracy: 0.7089\n",
      "Epoch 5/10\n",
      "251/251 [==============================] - 6s 23ms/step - loss: 0.7590 - accuracy: 0.7188 - val_loss: 0.7631 - val_accuracy: 0.7189\n",
      "Epoch 6/10\n",
      "251/251 [==============================] - 6s 24ms/step - loss: 0.7254 - accuracy: 0.7303 - val_loss: 0.7563 - val_accuracy: 0.7204\n",
      "Epoch 7/10\n",
      "251/251 [==============================] - 6s 25ms/step - loss: 0.7105 - accuracy: 0.7360 - val_loss: 0.7432 - val_accuracy: 0.7229\n",
      "Epoch 8/10\n",
      "251/251 [==============================] - 5s 21ms/step - loss: 0.6762 - accuracy: 0.7498 - val_loss: 0.7542 - val_accuracy: 0.7259\n",
      "Epoch 9/10\n",
      "251/251 [==============================] - 6s 26ms/step - loss: 0.6634 - accuracy: 0.7527 - val_loss: 0.7155 - val_accuracy: 0.7309\n",
      "Epoch 10/10\n",
      "251/251 [==============================] - 6s 23ms/step - loss: 0.6437 - accuracy: 0.7621 - val_loss: 0.7103 - val_accuracy: 0.7304\n"
     ]
    },
    {
     "data": {
      "text/plain": [
       "<keras.callbacks.History at 0x1dd427f2f50>"
      ]
     },
     "execution_count": 12,
     "metadata": {},
     "output_type": "execute_result"
    }
   ],
   "source": [
    "model.compile(loss='categorical_crossentropy', optimizer='adam', metrics=['accuracy'])\n",
    "model.fit(X_train, y_train, batch_size=32, epochs=10, validation_data=(X_test, y_test))\n"
   ]
  },
  {
   "cell_type": "code",
   "execution_count": 15,
   "id": "b3483418",
   "metadata": {},
   "outputs": [
    {
     "name": "stdout",
     "output_type": "stream",
     "text": [
      "Model: \"sequential\"\n",
      "_________________________________________________________________\n",
      " Layer (type)                Output Shape              Param #   \n",
      "=================================================================\n",
      " conv2d (Conv2D)             (None, 26, 26, 32)        896       \n",
      "                                                                 \n",
      " max_pooling2d (MaxPooling2D  (None, 13, 13, 32)       0         \n",
      " )                                                               \n",
      "                                                                 \n",
      " conv2d_1 (Conv2D)           (None, 11, 11, 64)        18496     \n",
      "                                                                 \n",
      " max_pooling2d_1 (MaxPooling  (None, 5, 5, 64)         0         \n",
      " 2D)                                                             \n",
      "                                                                 \n",
      " flatten (Flatten)           (None, 1600)              0         \n",
      "                                                                 \n",
      " dense (Dense)               (None, 128)               204928    \n",
      "                                                                 \n",
      " dense_1 (Dense)             (None, 7)                 903       \n",
      "                                                                 \n",
      "=================================================================\n",
      "Total params: 225,223\n",
      "Trainable params: 225,223\n",
      "Non-trainable params: 0\n",
      "_________________________________________________________________\n"
     ]
    }
   ],
   "source": [
    "model.summary()"
   ]
  },
  {
   "cell_type": "code",
   "execution_count": 14,
   "id": "1289391e",
   "metadata": {},
   "outputs": [
    {
     "name": "stdout",
     "output_type": "stream",
     "text": [
      "Requirement already satisfied: pydot in c:\\users\\nagap\\anaconda3\\envs\\pranav\\lib\\site-packages (1.4.2)\n",
      "Requirement already satisfied: pyparsing>=2.1.4 in c:\\users\\nagap\\anaconda3\\envs\\pranav\\lib\\site-packages (from pydot) (3.0.9)\n",
      "Note: you may need to restart the kernel to use updated packages.\n"
     ]
    }
   ],
   "source": [
    "%pip install pydot"
   ]
  },
  {
   "cell_type": "code",
   "execution_count": null,
   "id": "d129931e",
   "metadata": {},
   "outputs": [],
   "source": []
  }
 ],
 "metadata": {
  "kernelspec": {
   "display_name": "Python 3 (ipykernel)",
   "language": "python",
   "name": "python3"
  },
  "language_info": {
   "codemirror_mode": {
    "name": "ipython",
    "version": 3
   },
   "file_extension": ".py",
   "mimetype": "text/x-python",
   "name": "python",
   "nbconvert_exporter": "python",
   "pygments_lexer": "ipython3",
   "version": "3.11.3"
  }
 },
 "nbformat": 4,
 "nbformat_minor": 5
}
